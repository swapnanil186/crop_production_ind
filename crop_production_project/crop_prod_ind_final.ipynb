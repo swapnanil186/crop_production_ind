{
 "cells": [
  {
   "cell_type": "markdown",
   "id": "b9f598de-6b89-4adb-9d97-ecb507d749d1",
   "metadata": {},
   "source": [
    "# Crop Production Analysis in India\n",
    "\n",
    "## Introduction\n",
    "The agriculture business domain is evolving with advancements in technology. This project aims to analyze a dataset on crop production in India to predict crop production and uncover insights into key indicators and metrics that influence crop production. The goal is to create visualizations and dashboards to effectively communicate findings and facilitate stakeholder collaboration.\n",
    "\n",
    "\n",
    "## Import Libraries\n",
    "\n",
    "Import the necessary libraries for data analysis and visualization.\n"
   ]
  },
  {
   "cell_type": "code",
   "execution_count": null,
   "id": "03c96728-6f24-4108-a3b9-ae46386b89e0",
   "metadata": {},
   "outputs": [
    {
     "ename": "",
     "evalue": "",
     "output_type": "error",
     "traceback": [
      "\u001b[1;31mRunning cells with 'Python 3.12.4' requires the ipykernel package.\n",
      "\u001b[1;31mRun the following command to install 'ipykernel' into the Python environment. \n",
      "\u001b[1;31mCommand: 'c:/Users/swapn_xo1cvt1/AppData/Local/Microsoft/WindowsApps/python3.12.exe -m pip install ipykernel -U --user --force-reinstall'"
     ]
    }
   ],
   "source": [
    "import pandas as pd\n",
    "import numpy as np\n",
    "import seaborn as sns\n",
    "import matplotlib.pyplot as plt"
   ]
  },
  {
   "cell_type": "markdown",
   "id": "c5386916-8f1e-48dd-b7ad-0577ecdf6c3b",
   "metadata": {},
   "source": [
    "## Data Loading and Preprocessing\n",
    "In this section, we will load the dataset and perform initial preprocessing steps, including handling missing values and basic exploration of the data.\n"
   ]
  },
  {
   "cell_type": "code",
   "execution_count": null,
   "id": "4c902242-e07a-4241-a952-56390ada08c6",
   "metadata": {},
   "outputs": [
    {
     "ename": "",
     "evalue": "",
     "output_type": "error",
     "traceback": [
      "\u001b[1;31mRunning cells with 'Python 3.12.4' requires the ipykernel package.\n",
      "\u001b[1;31mRun the following command to install 'ipykernel' into the Python environment. \n",
      "\u001b[1;31mCommand: 'c:/Users/swapn_xo1cvt1/AppData/Local/Microsoft/WindowsApps/python3.12.exe -m pip install ipykernel -U --user --force-reinstall'"
     ]
    }
   ],
   "source": [
    "# Load Data\n",
    "data = pd.read_csv('crop_production/crop_production.csv') #https://data.world/thatzprem/agriculture-india\n",
    "pd.set_option(\"display.max_columns\", None)"
   ]
  },
  {
   "cell_type": "code",
   "execution_count": null,
   "id": "08ce449b-28f9-41eb-9033-a037658c4f30",
   "metadata": {},
   "outputs": [
    {
     "ename": "",
     "evalue": "",
     "output_type": "error",
     "traceback": [
      "\u001b[1;31mRunning cells with 'Python 3.12.4' requires the ipykernel package.\n",
      "\u001b[1;31mRun the following command to install 'ipykernel' into the Python environment. \n",
      "\u001b[1;31mCommand: 'c:/Users/swapn_xo1cvt1/AppData/Local/Microsoft/WindowsApps/python3.12.exe -m pip install ipykernel -U --user --force-reinstall'"
     ]
    }
   ],
   "source": [
    "data.shape"
   ]
  },
  {
   "cell_type": "code",
   "execution_count": null,
   "id": "f2466a57-e46b-4244-80f2-b3d334378340",
   "metadata": {},
   "outputs": [
    {
     "ename": "",
     "evalue": "",
     "output_type": "error",
     "traceback": [
      "\u001b[1;31mRunning cells with 'Python 3.12.4' requires the ipykernel package.\n",
      "\u001b[1;31mRun the following command to install 'ipykernel' into the Python environment. \n",
      "\u001b[1;31mCommand: 'c:/Users/swapn_xo1cvt1/AppData/Local/Microsoft/WindowsApps/python3.12.exe -m pip install ipykernel -U --user --force-reinstall'"
     ]
    }
   ],
   "source": [
    "data.head()"
   ]
  },
  {
   "cell_type": "code",
   "execution_count": null,
   "id": "0c55f890-2427-44b9-9941-21b318a456b7",
   "metadata": {},
   "outputs": [
    {
     "ename": "",
     "evalue": "",
     "output_type": "error",
     "traceback": [
      "\u001b[1;31mRunning cells with 'Python 3.12.4' requires the ipykernel package.\n",
      "\u001b[1;31mRun the following command to install 'ipykernel' into the Python environment. \n",
      "\u001b[1;31mCommand: 'c:/Users/swapn_xo1cvt1/AppData/Local/Microsoft/WindowsApps/python3.12.exe -m pip install ipykernel -U --user --force-reinstall'"
     ]
    }
   ],
   "source": [
    "data.info()"
   ]
  },
  {
   "cell_type": "code",
   "execution_count": null,
   "id": "2d9c6d5a-6e51-43ce-9af6-c78748a7c4ce",
   "metadata": {},
   "outputs": [
    {
     "ename": "",
     "evalue": "",
     "output_type": "error",
     "traceback": [
      "\u001b[1;31mRunning cells with 'Python 3.12.4' requires the ipykernel package.\n",
      "\u001b[1;31mRun the following command to install 'ipykernel' into the Python environment. \n",
      "\u001b[1;31mCommand: 'c:/Users/swapn_xo1cvt1/AppData/Local/Microsoft/WindowsApps/python3.12.exe -m pip install ipykernel -U --user --force-reinstall'"
     ]
    }
   ],
   "source": [
    "print(data.describe())"
   ]
  },
  {
   "cell_type": "code",
   "execution_count": null,
   "id": "03d43641-cf60-4473-8bb6-339bd85213a0",
   "metadata": {},
   "outputs": [
    {
     "ename": "",
     "evalue": "",
     "output_type": "error",
     "traceback": [
      "\u001b[1;31mRunning cells with 'Python 3.12.4' requires the ipykernel package.\n",
      "\u001b[1;31mRun the following command to install 'ipykernel' into the Python environment. \n",
      "\u001b[1;31mCommand: 'c:/Users/swapn_xo1cvt1/AppData/Local/Microsoft/WindowsApps/python3.12.exe -m pip install ipykernel -U --user --force-reinstall'"
     ]
    }
   ],
   "source": [
    "print(data.nunique())"
   ]
  },
  {
   "cell_type": "code",
   "execution_count": null,
   "id": "aaf23733-d0c0-4c7b-98c2-2d741d4fafef",
   "metadata": {},
   "outputs": [
    {
     "ename": "",
     "evalue": "",
     "output_type": "error",
     "traceback": [
      "\u001b[1;31mRunning cells with 'Python 3.12.4' requires the ipykernel package.\n",
      "\u001b[1;31mRun the following command to install 'ipykernel' into the Python environment. \n",
      "\u001b[1;31mCommand: 'c:/Users/swapn_xo1cvt1/AppData/Local/Microsoft/WindowsApps/python3.12.exe -m pip install ipykernel -U --user --force-reinstall'"
     ]
    }
   ],
   "source": [
    "print(data.isnull().sum())\n"
   ]
  },
  {
   "cell_type": "markdown",
   "id": "34232db3-0db1-4f7d-954f-82ab667d6dd4",
   "metadata": {},
   "source": [
    "## Data Cleaning\n",
    "\n",
    "Remove rows with missing values to ensure the analysis is accurate.\n"
   ]
  },
  {
   "cell_type": "code",
   "execution_count": null,
   "id": "d10fa486-e7e8-42fc-9427-a5b6c619e075",
   "metadata": {},
   "outputs": [
    {
     "ename": "",
     "evalue": "",
     "output_type": "error",
     "traceback": [
      "\u001b[1;31mRunning cells with 'Python 3.12.4' requires the ipykernel package.\n",
      "\u001b[1;31mRun the following command to install 'ipykernel' into the Python environment. \n",
      "\u001b[1;31mCommand: 'c:/Users/swapn_xo1cvt1/AppData/Local/Microsoft/WindowsApps/python3.12.exe -m pip install ipykernel -U --user --force-reinstall'"
     ]
    }
   ],
   "source": [
    "# Drop rows with missing values\n",
    "data.dropna(inplace=True)\n",
    "\n",
    "# Ensure Correct Data Types\n",
    "data['Crop_Year'] = data['Crop_Year'].astype(int)\n",
    "\n",
    "# Check for Duplicates\n",
    "data = data.drop_duplicates()\n",
    "data.shape\n"
   ]
  },
  {
   "cell_type": "markdown",
   "id": "0aaaaacd-586f-4c35-8399-c144c7ce7392",
   "metadata": {},
   "source": [
    "## Exploratory Data Analysis (EDA)\n",
    "This section includes various visualizations to understand the data better and identify patterns and trends.\n"
   ]
  },
  {
   "cell_type": "markdown",
   "id": "1e8baf15-5e2f-4549-8d44-9f5ce224512b",
   "metadata": {},
   "source": [
    "## Univariate Analysis"
   ]
  },
  {
   "cell_type": "markdown",
   "id": "372ed524-e045-42de-bb1f-c2943a43984a",
   "metadata": {},
   "source": [
    "### Distribution of Numerical Features\n",
    "We will plot histograms for numerical features to understand their distribution.\n"
   ]
  },
  {
   "cell_type": "code",
   "execution_count": null,
   "id": "45c01cde-83e4-4544-9fb5-6138dd394e5c",
   "metadata": {},
   "outputs": [
    {
     "ename": "",
     "evalue": "",
     "output_type": "error",
     "traceback": [
      "\u001b[1;31mRunning cells with 'Python 3.12.4' requires the ipykernel package.\n",
      "\u001b[1;31mRun the following command to install 'ipykernel' into the Python environment. \n",
      "\u001b[1;31mCommand: 'c:/Users/swapn_xo1cvt1/AppData/Local/Microsoft/WindowsApps/python3.12.exe -m pip install ipykernel -U --user --force-reinstall'"
     ]
    }
   ],
   "source": [
    "import matplotlib.pyplot as plt\n",
    "\n",
    "# Plot histograms for numerical features\n",
    "data.hist(figsize=(12, 10))\n",
    "plt.suptitle('Histograms of Numerical Features')\n",
    "plt.show()\n"
   ]
  },
  {
   "cell_type": "markdown",
   "id": "104abfa6-9b16-4797-8c9e-ac2d580c76ec",
   "metadata": {},
   "source": [
    "### Distribution of Categorical Features\n",
    "Next, we will visualize the distribution of categorical features using bar charts.\n"
   ]
  },
  {
   "cell_type": "code",
   "execution_count": null,
   "id": "25b789b0-5405-4361-9a8d-3e659ffad57d",
   "metadata": {},
   "outputs": [
    {
     "ename": "",
     "evalue": "",
     "output_type": "error",
     "traceback": [
      "\u001b[1;31mRunning cells with 'Python 3.12.4' requires the ipykernel package.\n",
      "\u001b[1;31mRun the following command to install 'ipykernel' into the Python environment. \n",
      "\u001b[1;31mCommand: 'c:/Users/swapn_xo1cvt1/AppData/Local/Microsoft/WindowsApps/python3.12.exe -m pip install ipykernel -U --user --force-reinstall'"
     ]
    }
   ],
   "source": [
    "import seaborn as sns\n",
    "\n",
    "# Plot bar charts for categorical features\n",
    "for col in ['State_Name', 'District_Name', 'Season', 'Crop']:\n",
    "    plt.figure(figsize=(12, 6))\n",
    "    sns.countplot(x=data[col], order=data[col].value_counts().index)\n",
    "    plt.title(f'Distribution of {col}')\n",
    "    plt.xticks(rotation=90)\n",
    "    plt.show()\n"
   ]
  },
  {
   "cell_type": "markdown",
   "id": "ba928289-0d23-4086-b8b0-3e0698c1dc3c",
   "metadata": {},
   "source": [
    "## Bivariate Analysis"
   ]
  },
  {
   "cell_type": "markdown",
   "id": "452796a9-a22b-4a18-8a57-03a771d870c3",
   "metadata": {},
   "source": [
    "## Yearly Crop Production\n",
    "\n",
    "Analyze and visualize the total crop production for each year.\n",
    "We will analyze the crop production over time to observe trends and patterns.\n"
   ]
  },
  {
   "cell_type": "code",
   "execution_count": null,
   "id": "209a64fd-38a1-418e-bec5-1d565d7e083f",
   "metadata": {},
   "outputs": [
    {
     "ename": "",
     "evalue": "",
     "output_type": "error",
     "traceback": [
      "\u001b[1;31mRunning cells with 'Python 3.12.4' requires the ipykernel package.\n",
      "\u001b[1;31mRun the following command to install 'ipykernel' into the Python environment. \n",
      "\u001b[1;31mCommand: 'c:/Users/swapn_xo1cvt1/AppData/Local/Microsoft/WindowsApps/python3.12.exe -m pip install ipykernel -U --user --force-reinstall'"
     ]
    }
   ],
   "source": [
    "# Group by Crop_Year and sum Production\n",
    "df_yearly_production = data.groupby('Crop_Year')['Production'].sum().reset_index()\n",
    "print(df_yearly_production)\n",
    "# Plot crop production over time\n",
    "plt.figure(figsize=(12, 6))\n",
    "plt.plot(df_yearly_production['Crop_Year'], df_yearly_production['Production'],marker='o')\n",
    "plt.xlabel('Crop Year')\n",
    "plt.ylabel('Total Production')\n",
    "plt.title('Yearly Crop Production')\n",
    "plt.show()\n"
   ]
  },
  {
   "cell_type": "code",
   "execution_count": null,
   "id": "02bfa599-6f0a-41d6-9d6b-dbf6914881d9",
   "metadata": {},
   "outputs": [
    {
     "ename": "",
     "evalue": "",
     "output_type": "error",
     "traceback": [
      "\u001b[1;31mRunning cells with 'Python 3.12.4' requires the ipykernel package.\n",
      "\u001b[1;31mRun the following command to install 'ipykernel' into the Python environment. \n",
      "\u001b[1;31mCommand: 'c:/Users/swapn_xo1cvt1/AppData/Local/Microsoft/WindowsApps/python3.12.exe -m pip install ipykernel -U --user --force-reinstall'"
     ]
    }
   ],
   "source": []
  },
  {
   "cell_type": "markdown",
   "id": "a153f891-c716-40e1-93ca-0ab7cd3ad7d7",
   "metadata": {},
   "source": [
    "## Top 10 Crops by Area\n",
    "\n",
    "Identify and visualize the top 10 crops by area of cultivation.\n",
    "We will identify and visualize the top crops by area.\n"
   ]
  },
  {
   "cell_type": "code",
   "execution_count": null,
   "id": "44dfcdd6-e22c-4895-88cf-3a441ca8559f",
   "metadata": {},
   "outputs": [
    {
     "ename": "",
     "evalue": "",
     "output_type": "error",
     "traceback": [
      "\u001b[1;31mRunning cells with 'Python 3.12.4' requires the ipykernel package.\n",
      "\u001b[1;31mRun the following command to install 'ipykernel' into the Python environment. \n",
      "\u001b[1;31mCommand: 'c:/Users/swapn_xo1cvt1/AppData/Local/Microsoft/WindowsApps/python3.12.exe -m pip install ipykernel -U --user --force-reinstall'"
     ]
    }
   ],
   "source": [
    "# Group by Crop and sum Area\n",
    "df_top_crops = data.groupby('Crop')['Area'].sum().reset_index()\n",
    "df_top_crops = df_top_crops.sort_values('Area', ascending=False).head(10)\n",
    "df_top_crops"
   ]
  },
  {
   "cell_type": "code",
   "execution_count": null,
   "id": "952c95a9-1bd9-4814-935f-5f0dc2d80f8b",
   "metadata": {},
   "outputs": [
    {
     "ename": "",
     "evalue": "",
     "output_type": "error",
     "traceback": [
      "\u001b[1;31mRunning cells with 'Python 3.12.4' requires the ipykernel package.\n",
      "\u001b[1;31mRun the following command to install 'ipykernel' into the Python environment. \n",
      "\u001b[1;31mCommand: 'c:/Users/swapn_xo1cvt1/AppData/Local/Microsoft/WindowsApps/python3.12.exe -m pip install ipykernel -U --user --force-reinstall'"
     ]
    }
   ],
   "source": [
    "# Plot bar chart\n",
    "plt.figure(figsize=(12, 6))\n",
    "plt.barh(df_top_crops['Crop'], df_top_crops['Area'])\n",
    "plt.xlabel('Total Area')\n",
    "plt.title('Top 10 Crops by Area')\n",
    "plt.show()"
   ]
  },
  {
   "cell_type": "markdown",
   "id": "4ebbbd53-e0ec-4408-bfde-2a89dd537f5e",
   "metadata": {},
   "source": [
    "## Pie Chart (Production Proportions)"
   ]
  },
  {
   "cell_type": "code",
   "execution_count": null,
   "id": "0b37145f-c695-40aa-b91e-1f34d409e0e8",
   "metadata": {},
   "outputs": [
    {
     "ename": "",
     "evalue": "",
     "output_type": "error",
     "traceback": [
      "\u001b[1;31mRunning cells with 'Python 3.12.4' requires the ipykernel package.\n",
      "\u001b[1;31mRun the following command to install 'ipykernel' into the Python environment. \n",
      "\u001b[1;31mCommand: 'c:/Users/swapn_xo1cvt1/AppData/Local/Microsoft/WindowsApps/python3.12.exe -m pip install ipykernel -U --user --force-reinstall'"
     ]
    }
   ],
   "source": [
    "# Group by Crop and sum Production\n",
    "df_production = data.groupby('Crop')['Production'].sum().reset_index()\n",
    "df_production = df_production.sort_values('Production', ascending=False)\n",
    "print(df_production)\n",
    "# Plot pie chart\n",
    "plt.figure(figsize=(10, 8))\n",
    "plt.pie(df_production['Production'], labels=df_production['Crop'], autopct='%1.1f%%')\n",
    "plt.title('Crop Production Distribution')\n",
    "plt.show()\n"
   ]
  },
  {
   "cell_type": "markdown",
   "id": "64a9fdf8-2515-4503-bb1e-c9eb9f3fd090",
   "metadata": {},
   "source": [
    "## Correlation Heatmap"
   ]
  },
  {
   "cell_type": "code",
   "execution_count": null,
   "id": "dcb45876-1ede-426f-b560-aab110f0cf93",
   "metadata": {},
   "outputs": [
    {
     "ename": "",
     "evalue": "",
     "output_type": "error",
     "traceback": [
      "\u001b[1;31mRunning cells with 'Python 3.12.4' requires the ipykernel package.\n",
      "\u001b[1;31mRun the following command to install 'ipykernel' into the Python environment. \n",
      "\u001b[1;31mCommand: 'c:/Users/swapn_xo1cvt1/AppData/Local/Microsoft/WindowsApps/python3.12.exe -m pip install ipykernel -U --user --force-reinstall'"
     ]
    }
   ],
   "source": [
    "# Compute correlation matrix\n",
    "corr = data[['Crop_Year', 'Area', 'Production']].corr()\n",
    "print(corr)\n",
    "# Plot heatmap\n",
    "plt.figure(figsize=(10, 8))\n",
    "sns.heatmap(corr, annot=True, cmap='coolwarm')\n",
    "plt.title('Correlation Matrix')\n",
    "plt.show()\n"
   ]
  },
  {
   "cell_type": "markdown",
   "id": "81b6e909-b5e4-4fa8-bf4e-55b58688dab4",
   "metadata": {},
   "source": [
    "## Seasonal Analysis\n",
    "\n",
    "### Seasonal Crops\n",
    "Analyze which crops are prevalent in different seasons.\n"
   ]
  },
  {
   "cell_type": "code",
   "execution_count": null,
   "id": "22c100e9-9d4a-46aa-9653-8279f3ca8e62",
   "metadata": {},
   "outputs": [
    {
     "ename": "",
     "evalue": "",
     "output_type": "error",
     "traceback": [
      "\u001b[1;31mRunning cells with 'Python 3.12.4' requires the ipykernel package.\n",
      "\u001b[1;31mRun the following command to install 'ipykernel' into the Python environment. \n",
      "\u001b[1;31mCommand: 'c:/Users/swapn_xo1cvt1/AppData/Local/Microsoft/WindowsApps/python3.12.exe -m pip install ipykernel -U --user --force-reinstall'"
     ]
    }
   ],
   "source": [
    "# Group by Crop_Year and Season\n",
    "df_seasonal_crops = data.groupby(['Crop_Year', 'Season'])['Crop'].unique().reset_index()\n",
    "df_seasonal_crops['Crop'] = df_seasonal_crops['Crop'].apply(','.join)\n",
    "df_seasonal_crops = df_seasonal_crops.sort_values('Crop')\n",
    "print(df_seasonal_crops)\n",
    "# Plot seasonal crops\n",
    "plt.figure(figsize=(12, 6))\n",
    "sns.countplot(data=data, x='Season', order=data['Season'].value_counts().index)\n",
    "plt.title('Crop Distribution by Season')\n",
    "plt.xticks(rotation=45)\n",
    "plt.show()\n"
   ]
  },
  {
   "cell_type": "markdown",
   "id": "2ba5171c-bdbe-4b72-9683-aca84076382e",
   "metadata": {},
   "source": [
    "## Production Analysis"
   ]
  },
  {
   "cell_type": "code",
   "execution_count": null,
   "id": "292d0a75-a2cd-4937-ade9-5a87d4302ce7",
   "metadata": {},
   "outputs": [
    {
     "ename": "",
     "evalue": "",
     "output_type": "error",
     "traceback": [
      "\u001b[1;31mRunning cells with 'Python 3.12.4' requires the ipykernel package.\n",
      "\u001b[1;31mRun the following command to install 'ipykernel' into the Python environment. \n",
      "\u001b[1;31mCommand: 'c:/Users/swapn_xo1cvt1/AppData/Local/Microsoft/WindowsApps/python3.12.exe -m pip install ipykernel -U --user --force-reinstall'"
     ]
    }
   ],
   "source": [
    "# Plot top crops by total production\n",
    "df_top_production = data.groupby('Crop')['Production'].sum().reset_index()\n",
    "df_top_production = df_top_production.sort_values('Production', ascending=False).head(10)\n",
    "print(df_top_production)\n",
    "plt.figure(figsize=(12, 6))\n",
    "plt.barh(df_top_production['Crop'], df_top_production['Production'])\n",
    "plt.xlabel('Total Production')\n",
    "plt.title('Top 10 Crops by Production')\n",
    "plt.show()\n"
   ]
  },
  {
   "cell_type": "markdown",
   "id": "f2d82bee-7b6f-442f-9c61-8159a2f98240",
   "metadata": {},
   "source": [
    "# Conclusion\n",
    "The EDA has revealed various insights into crop production trends and distributions. We observed the distribution of production and area, identified outliers, explored relationships between features, and visualized key metrics. These insights will help guide further analysis and modeling.\n"
   ]
  },
  {
   "cell_type": "code",
   "execution_count": null,
   "id": "b0f8c716-cef6-4d1f-8def-19653ad4d310",
   "metadata": {},
   "outputs": [
    {
     "ename": "",
     "evalue": "",
     "output_type": "error",
     "traceback": [
      "\u001b[1;31mRunning cells with 'Python 3.12.4' requires the ipykernel package.\n",
      "\u001b[1;31mRun the following command to install 'ipykernel' into the Python environment. \n",
      "\u001b[1;31mCommand: 'c:/Users/swapn_xo1cvt1/AppData/Local/Microsoft/WindowsApps/python3.12.exe -m pip install ipykernel -U --user --force-reinstall'"
     ]
    }
   ],
   "source": []
  },
  {
   "cell_type": "code",
   "execution_count": null,
   "id": "946033d6-fffa-41d0-ad78-8648abd2a19b",
   "metadata": {},
   "outputs": [
    {
     "ename": "",
     "evalue": "",
     "output_type": "error",
     "traceback": [
      "\u001b[1;31mRunning cells with 'Python 3.12.4' requires the ipykernel package.\n",
      "\u001b[1;31mRun the following command to install 'ipykernel' into the Python environment. \n",
      "\u001b[1;31mCommand: 'c:/Users/swapn_xo1cvt1/AppData/Local/Microsoft/WindowsApps/python3.12.exe -m pip install ipykernel -U --user --force-reinstall'"
     ]
    }
   ],
   "source": []
  }
 ],
 "metadata": {
  "kernelspec": {
   "display_name": "Python 3 (ipykernel)",
   "language": "python",
   "name": "python3"
  },
  "language_info": {
   "codemirror_mode": {
    "name": "ipython",
    "version": 3
   },
   "file_extension": ".py",
   "mimetype": "text/x-python",
   "name": "python",
   "nbconvert_exporter": "python",
   "pygments_lexer": "ipython3",
   "version": "3.12.4"
  }
 },
 "nbformat": 4,
 "nbformat_minor": 5
}
